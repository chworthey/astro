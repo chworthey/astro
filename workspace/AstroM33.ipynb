{
 "cells": [
  {
   "cell_type": "markdown",
   "metadata": {},
   "source": [
    "# Astro M33\n",
    "\n",
    "This notebook analyzes astronomy spectra data for age characteristics for chemically peculiar / non-chemically peculiar stars."
   ]
  },
  {
   "cell_type": "markdown",
   "metadata": {},
   "source": [
    "## Setup\n",
    "\n",
    "Do the imports and create the spark session instance."
   ]
  },
  {
   "cell_type": "code",
   "execution_count": 1,
   "metadata": {},
   "outputs": [],
   "source": [
    "from pyspark.sql import SparkSession\n",
    "from pyspark.sql.functions import *\n",
    "import pandas as pd\n",
    "import matplotlib.patches as patches\n",
    "import matplotlib.pyplot as plt\n",
    "\n",
    "spark = SparkSession.builder \\\n",
    "    .appName(\"Astro\") \\\n",
    "    .enableHiveSupport() \\\n",
    "    .getOrCreate()"
   ]
  },
  {
   "cell_type": "markdown",
   "metadata": {},
   "source": [
    "## Ingest\n",
    "\n",
    "This function copies the astronomy data to a managed table. This will take some time (and disk space), but it only needs to be done once ever for the entire dataset, and it will speed up any future analysis. Any future runs of ingest() will be ignored (silently fail) due to the table already existing.\n",
    "\n",
    "To re-ingest, one must first run this to delete the data:\n",
    "```python\n",
    "spark.sql('drop table astro')\n",
    "```"
   ]
  },
  {
   "cell_type": "code",
   "execution_count": 2,
   "metadata": {},
   "outputs": [],
   "source": [
    "# Uncomment to delete the table if necessary\n",
    "# spark.sql('drop table spectra')"
   ]
  },
  {
   "cell_type": "code",
   "execution_count": 3,
   "metadata": {},
   "outputs": [],
   "source": [
    "# Uncomment to delete the table if necessary\n",
    "# spark.sql('drop table absorption')"
   ]
  },
  {
   "cell_type": "code",
   "execution_count": 4,
   "metadata": {},
   "outputs": [],
   "source": [
    "def split_fixed_width_col(column):\n",
    "    return split(trim(column), ' +')\n",
    "\n",
    "def filter_headers(raw_df):\n",
    "    return raw_df.filter(~col('value').startswith('#'))\n",
    "\n",
    "def ingest_spectra():\n",
    "    if \"spectra\" in [t.name for t in spark.catalog.listTables(\"default\")]:\n",
    "        print('Table \"spectra\" already exists. Ignoring.')\n",
    "        return\n",
    "    raw = spark.read.text(\"../data/spectra/*/*/hmix.*\")\n",
    "    raw_filtered = filter_headers(raw)\n",
    "    \n",
    "    cleaned = raw_filtered \\\n",
    "        .select( \\\n",
    "            split(input_file_name(), '/').alias('fn_split'), \\\n",
    "            split_fixed_width_col(col('value')).alias('raw_split') \\\n",
    "        ) \\\n",
    "        .select( \\\n",
    "            element_at(col('fn_split'), -3).alias('dataset'), \\\n",
    "            element_at(col('fn_split'), -2).alias('cp_str'), \\\n",
    "            element_at(col('fn_split'), -1).alias('fn'), \\\n",
    "            col('raw_split')[0].cast('float').alias('wavelength'), \\\n",
    "            col('raw_split')[1].cast('float').alias('flam') \\\n",
    "        ) \\\n",
    "        .select( \\\n",
    "            col('dataset'), \\\n",
    "            when(col('cp_str') == 'cp', 1).otherwise(0).alias('is_cp'), \\\n",
    "            substring(col('fn'), 7, 6).cast('bigint').alias('age_mil'), \\\n",
    "            substring(col('fn'), 14, 4).cast('int').alias('heavy_metal_c'), \\\n",
    "            col('wavelength'), \\\n",
    "            col('flam') \\\n",
    "        )\n",
    "    cleaned \\\n",
    "        .write \\\n",
    "        .mode('ignore') \\\n",
    "        .partitionBy( \\\n",
    "            'dataset', \\\n",
    "            'heavy_metal_c', \\\n",
    "            'is_cp', \\\n",
    "            'age_mil' \\\n",
    "        ) \\\n",
    "        .bucketBy(8, 'wavelength') \\\n",
    "        .format('orc') \\\n",
    "        .saveAsTable('spectra')\n",
    "    \n",
    "def ingest_absorption():\n",
    "    if \"absorption\" in [t.name for t in spark.catalog.listTables(\"default\")]:\n",
    "        print('Table \"absorption\" already exists. Ignoring.')\n",
    "        return\n",
    "    raw = spark.read.text(\"../data/absorption/index.table\")\n",
    "    raw_filtered = filter_headers(raw)\n",
    "    cleaned = raw_filtered \\\n",
    "        .select( \\\n",
    "                split_fixed_width_col(col('value')).alias('raw_split') \\\n",
    "        ) \\\n",
    "        .select( \\\n",
    "                col('raw_split')[0].cast('int').alias('id'), \\\n",
    "                col('raw_split')[1].cast('float').alias('index_band_min'), \\\n",
    "                col('raw_split')[2].cast('float').alias('index_band_max'), \\\n",
    "                col('raw_split')[3].cast('float').alias('blue_continuum_min'), \\\n",
    "                col('raw_split')[4].cast('float').alias('blue_continuum_max'), \\\n",
    "                col('raw_split')[5].cast('float').alias('red_continuum_min'), \\\n",
    "                col('raw_split')[6].cast('float').alias('red_continuum_max'), \\\n",
    "                col('raw_split')[7].cast('int').alias('units'), \\\n",
    "                col('raw_split')[8].alias('name'), \\\n",
    "        )\n",
    "    cleaned \\\n",
    "        .write \\\n",
    "        .mode('ignore') \\\n",
    "        .format('orc') \\\n",
    "        .saveAsTable('absorption')\n",
    "    "
   ]
  },
  {
   "cell_type": "code",
   "execution_count": 5,
   "metadata": {},
   "outputs": [
    {
     "name": "stdout",
     "output_type": "stream",
     "text": [
      "Table \"spectra\" already exists. Ignoring.\n"
     ]
    }
   ],
   "source": [
    "ingest_spectra()"
   ]
  },
  {
   "cell_type": "code",
   "execution_count": 6,
   "metadata": {},
   "outputs": [
    {
     "name": "stdout",
     "output_type": "stream",
     "text": [
      "Table \"absorption\" already exists. Ignoring.\n"
     ]
    }
   ],
   "source": [
    "ingest_absorption()"
   ]
  },
  {
   "cell_type": "markdown",
   "metadata": {},
   "source": [
    "## Let's take a look at the data in the tables..."
   ]
  },
  {
   "cell_type": "code",
   "execution_count": 7,
   "metadata": {},
   "outputs": [
    {
     "name": "stdout",
     "output_type": "stream",
     "text": [
      "+----------+--------+--------+-------------+-----+-------+\n",
      "|wavelength|    flam| dataset|heavy_metal_c|is_cp|age_mil|\n",
      "+----------+--------+--------+-------------+-----+-------+\n",
      "|   3000.38|25314.78|m33_0.01|          790|    0|    100|\n",
      "|   8859.64|2000.581|m33_0.01|          790|    0|    100|\n",
      "|    3000.5|25166.85|m33_0.01|          790|    0|    100|\n",
      "|   8859.85|1988.565|m33_0.01|          790|    0|    100|\n",
      "|   3000.52| 25134.6|m33_0.01|          790|    0|    100|\n",
      "|    8859.9|1988.374|m33_0.01|          790|    0|    100|\n",
      "|   3000.58|25026.55|m33_0.01|          790|    0|    100|\n",
      "|   8859.99|1989.904|m33_0.01|          790|    0|    100|\n",
      "|   3000.76|24667.97|m33_0.01|          790|    0|    100|\n",
      "|   8860.12|1994.742|m33_0.01|          790|    0|    100|\n",
      "|   3000.83|24560.54|m33_0.01|          790|    0|    100|\n",
      "|   8860.14|1995.604|m33_0.01|          790|    0|    100|\n",
      "|   3001.01|24524.21|m33_0.01|          790|    0|    100|\n",
      "|   8860.15|1996.036|m33_0.01|          790|    0|    100|\n",
      "|   3001.03| 24545.8|m33_0.01|          790|    0|    100|\n",
      "|   8860.21|1998.576|m33_0.01|          790|    0|    100|\n",
      "|   3001.13|24725.45|m33_0.01|          790|    0|    100|\n",
      "|   8860.26| 2000.49|m33_0.01|          790|    0|    100|\n",
      "|   3001.28|25145.16|m33_0.01|          790|    0|    100|\n",
      "|   8860.27|2000.839|m33_0.01|          790|    0|    100|\n",
      "+----------+--------+--------+-------------+-----+-------+\n",
      "only showing top 20 rows\n",
      "\n"
     ]
    }
   ],
   "source": [
    "spark.table('spectra').show()"
   ]
  },
  {
   "cell_type": "code",
   "execution_count": 8,
   "metadata": {},
   "outputs": [
    {
     "name": "stdout",
     "output_type": "stream",
     "text": [
      "+---+--------------+--------------+------------------+------------------+-----------------+-----------------+-----+-------+\n",
      "| id|index_band_min|index_band_max|blue_continuum_min|blue_continuum_max|red_continuum_min|red_continuum_max|units|   name|\n",
      "+---+--------------+--------------+------------------+------------------+-----------------+-----------------+-----+-------+\n",
      "|  1|      4142.125|      4177.125|          4080.125|          4117.625|         4244.125|         4284.125|    1|   CN_1|\n",
      "|  2|      4142.125|      4177.125|          4083.875|          4096.375|         4244.125|         4284.125|    1|   CN_2|\n",
      "|  3|       4222.25|       4234.75|            4211.0|           4219.75|           4241.0|           4251.0|    0| Ca4227|\n",
      "|  4|      4281.375|      4316.375|          4266.375|          4282.625|         4318.875|         4335.125|    0|  G4300|\n",
      "|  5|      4369.125|      4420.375|          4359.125|          4370.375|         4442.875|         4455.375|    0| Fe4383|\n",
      "|  6|      4452.125|      4474.625|          4445.875|          4454.625|         4477.125|         4492.125|    0| Ca4455|\n",
      "|  7|       4514.25|       4559.25|           4504.25|           4514.25|           4560.5|          4579.25|    0| Fe4531|\n",
      "|  8|        4634.0|       4720.25|            4611.5|           4630.25|          4742.75|           4756.5|    0|C2_4668|\n",
      "|  9|      4847.875|      4876.625|          4827.875|          4847.875|         4876.625|         4891.625|    0| H_beta|\n",
      "| 10|       4977.75|        5054.0|            4946.5|           4977.75|           5054.0|          5065.25|    0| Fe5015|\n",
      "| 11|      5069.125|      5134.125|          4895.125|          4957.625|         5301.125|         5366.125|    1|   Mg_1|\n",
      "| 12|      5154.125|      5196.625|          4895.125|          4957.625|         5301.125|         5366.125|    1|   Mg_2|\n",
      "| 13|      5160.125|      5192.625|          5142.625|          5161.375|         5191.375|         5206.375|    0|   Mg_b|\n",
      "| 14|       5245.65|       5285.65|           5233.15|           5248.15|          5285.65|          5318.15|    0| Fe5270|\n",
      "| 15|      5312.125|      5352.125|          5304.625|          5315.875|         5353.375|         5363.375|    0| Fe5335|\n",
      "| 16|        5387.5|        5415.0|           5376.25|            5387.5|           5415.0|           5425.0|    0| Fe5406|\n",
      "| 17|      5696.625|      5720.375|          5672.875|          5696.625|         5722.875|         5736.625|    0| Fe5709|\n",
      "| 18|      5776.625|      5796.625|          5765.375|          5775.375|         5797.875|         5811.625|    0| Fe5782|\n",
      "| 19|      5876.875|      5909.375|          5860.625|          5875.625|         5922.125|         5948.125|    0|   Na_D|\n",
      "| 20|      5936.625|      5994.125|          5816.625|          5849.125|         6038.625|         6103.625|    1|  TiO_1|\n",
      "+---+--------------+--------------+------------------+------------------+-----------------+-----------------+-----+-------+\n",
      "only showing top 20 rows\n",
      "\n"
     ]
    }
   ],
   "source": [
    "spark.table('absorption').show()"
   ]
  },
  {
   "cell_type": "markdown",
   "metadata": {},
   "source": [
    "## We can also execute SQL statements like so..."
   ]
  },
  {
   "cell_type": "code",
   "execution_count": 9,
   "metadata": {},
   "outputs": [
    {
     "name": "stdout",
     "output_type": "stream",
     "text": [
      "+----------+--------+--------+-------------+-----+-------+\n",
      "|wavelength|    flam| dataset|heavy_metal_c|is_cp|age_mil|\n",
      "+----------+--------+--------+-------------+-----+-------+\n",
      "|   3000.38|311351.3|m33_0.01|          790|    1|     14|\n",
      "|   6578.86|16179.39|m33_0.01|          790|    1|     14|\n",
      "|    3000.5|311013.9|m33_0.01|          790|    1|     14|\n",
      "|    6579.0|16262.56|m33_0.01|          790|    1|     14|\n",
      "|   3000.52|310993.6|m33_0.01|          790|    1|     14|\n",
      "|   6579.04|16280.62|m33_0.01|          790|    1|     14|\n",
      "|   3000.58|310997.0|m33_0.01|          790|    1|     14|\n",
      "|    6579.1|16305.47|m33_0.01|          790|    1|     14|\n",
      "|   3000.76|311354.0|m33_0.01|          790|    1|     14|\n",
      "|   6579.11|16309.48|m33_0.01|          790|    1|     14|\n",
      "+----------+--------+--------+-------------+-----+-------+\n",
      "\n"
     ]
    }
   ],
   "source": [
    "spark.sql('SELECT * FROM spectra WHERE is_cp=1 AND age_mil=14 LIMIT 10').show()"
   ]
  },
  {
   "cell_type": "markdown",
   "metadata": {},
   "source": [
    "## We can also sample from the data, and plot it..."
   ]
  },
  {
   "cell_type": "code",
   "execution_count": 10,
   "metadata": {},
   "outputs": [],
   "source": [
    "def pick_spectrum( \\\n",
    "    data_set='m33_0.01', \\\n",
    "    heavy_metal_c=790, \\\n",
    "    age_mil=11):\n",
    "    \n",
    "    table = spark.table('spectra')\n",
    "    return table.filter( \\\n",
    "        (col('dataset') == data_set) & \\\n",
    "        (col('heavy_metal_c') == heavy_metal_c) & \\\n",
    "        (col('age_mil') == age_mil) \\\n",
    "    )\n",
    "\n",
    "def sample_and_plot_spectrum( \\\n",
    "    spectrum, \\\n",
    "    num_samples=2000, \\\n",
    "    min_wavelength=3000.0, \\\n",
    "    max_wavelength=10000.0):\n",
    "    wavelength_increment = (max_wavelength - min_wavelength)/num_samples\n",
    "\n",
    "    bins = spectrum.select( \\\n",
    "            ( \\\n",
    "                floor( \\\n",
    "                    col('wavelength')/wavelength_increment \\\n",
    "                )*wavelength_increment \\\n",
    "            ).alias('wavelength'), \\\n",
    "            col('is_cp'), \\\n",
    "            col('flam'), \\\n",
    "        ) \\\n",
    "        .filter( \\\n",
    "            (col('wavelength') >= min_wavelength) & \\\n",
    "                (col('wavelength') <= max_wavelength) \\\n",
    "        ) \\\n",
    "        .groupBy( \\\n",
    "            col('wavelength'), \\\n",
    "            col('is_cp') \\\n",
    "        ) \\\n",
    "        .agg(avg(col('flam')).alias('avg_flam'))\n",
    "    \n",
    "    transf = bins.alias('b1') \\\n",
    "        .join( \\\n",
    "            bins.alias('b2'), \\\n",
    "            (col('b1.wavelength') == col('b2.wavelength')) & \\\n",
    "                (col('b1.is_cp') == 0) & \\\n",
    "                (col('b2.is_cp') == 1) \\\n",
    "        ) \\\n",
    "        .select( \\\n",
    "            col('b1.wavelength').alias('wavelength'), \\\n",
    "            col('b1.avg_flam').alias('flam_no_cp'), \\\n",
    "            col('b2.avg_flam').alias('flam_cp') \\\n",
    "        ) \\\n",
    "        .orderBy(col('wavelength'))\n",
    "    \n",
    "    sampled_pdf = transf.toPandas().set_index('wavelength')\n",
    "    sampled_pdf.plot.line()"
   ]
  },
  {
   "cell_type": "code",
   "execution_count": 11,
   "metadata": {},
   "outputs": [
    {
     "data": {
      "image/png": "[encoded data removed]",
      "text/plain": [
       "<Figure size 432x288 with 1 Axes>"
      ]
     },
     "metadata": {
      "needs_background": "light"
     },
     "output_type": "display_data"
    }
   ],
   "source": [
    "# Let's plot the whole spectrum to see what we're dealing with...\n",
    "sample_and_plot_spectrum( \\\n",
    "    pick_spectrum( \\\n",
    "        data_set='m33_0.01', \\\n",
    "        heavy_metal_c=790, \\\n",
    "        age_mil=11 \\\n",
    "    ) \\\n",
    ")"
   ]
  },
  {
   "cell_type": "markdown",
   "metadata": {},
   "source": [
    "## Let's take a look at specific absorption lines..."
   ]
  },
  {
   "cell_type": "code",
   "execution_count": 12,
   "metadata": {},
   "outputs": [],
   "source": [
    "def get_absorption_line_data(name):\n",
    "    absorption = spark.table('absorption')\n",
    "    row = absorption \\\n",
    "        .select( \\\n",
    "            col('index_band_min'), \\\n",
    "            col('index_band_max'), \\\n",
    "            col('blue_continuum_min'), \\\n",
    "            col('blue_continuum_max'), \\\n",
    "            col('red_continuum_min'), \\\n",
    "            col('red_continuum_max') \\\n",
    "        ) \\\n",
    "        .filter(col('name') == name) \\\n",
    "        .first()\n",
    "    return row.asDict()\n",
    "\n",
    "def find_f_continuum_no_cp(spectrum, absorption_data):\n",
    "    row = spectrum \\\n",
    "        .select( \\\n",
    "            col('flam') \\\n",
    "        ) \\\n",
    "        .filter( \\\n",
    "            (col('is_cp') == 0) & \\\n",
    "                (\\\n",
    "                    ((col('wavelength') >= absorption_data['blue_continuum_min']) & \\\n",
    "                        (col('wavelength') <= absorption_data['blue_continuum_max'])) | \\\n",
    "                    ((col('wavelength') >= absorption_data['red_continuum_min']) & \\\n",
    "                        (col('wavelength') <= absorption_data['red_continuum_max'])) \\\n",
    "                ) \\\n",
    "        ) \\\n",
    "        .agg(avg(col('flam')).alias('avg_flam')) \\\n",
    "        .select(col('avg_flam')) \\\n",
    "        .first()\n",
    "    return row.asDict()['avg_flam']\n",
    "\n",
    "def find_f_line_no_cp(spectrum, absorption_data):\n",
    "    row = spectrum \\\n",
    "        .select( \\\n",
    "                col('flam') \\\n",
    "        ) \\\n",
    "        .filter( \\\n",
    "            (col('is_cp') == 0) & \\\n",
    "                (col('wavelength') >= absorption_data['index_band_min']) & \\\n",
    "                (col('wavelength') <= absorption_data['index_band_max']) \\\n",
    "        ) \\\n",
    "        .agg(avg(col('flam')).alias('avg_flam')) \\\n",
    "        .select(col('avg_flam')) \\\n",
    "        .first()\n",
    "    return row.asDict()['avg_flam']\n",
    "\n",
    "def calc_equivalent_width(f_cont, f_line, delta_index_band):\n",
    "    return (f_cont - f_line) / f_cont * delta_index_band\n",
    "\n",
    "def plot_absorption_line(spectrum, line_name):\n",
    "    line_data = get_absorption_line_data(line_name)\n",
    "    \n",
    "    f_cont = find_f_continuum_no_cp(spectrum, line_data)\n",
    "    f_line = find_f_line_no_cp(spectrum, line_data)\n",
    "    \n",
    "    sample_and_plot_spectrum( \\\n",
    "        spectrum, \\\n",
    "        min_wavelength=line_data['blue_continuum_min'] - 20, \\\n",
    "        max_wavelength=line_data['red_continuum_max'] + 20, \\\n",
    "    )\n",
    "\n",
    "    ax = plt.gca()\n",
    "    ax.axhline(y=f_cont, color='grey', linestyle='--', label='f_cont_no_cp')\n",
    "    ax.axhline(y=f_line, color='black', linestyle='--', label='f_line_no_cp')\n",
    "    ax.axvspan(line_data['index_band_min'], line_data['index_band_max'], alpha=0.1, color='black')\n",
    "    ax.axvspan(line_data['blue_continuum_min'], line_data['blue_continuum_max'], alpha=0.1, color='blue')\n",
    "    ax.axvspan(line_data['red_continuum_min'], line_data['red_continuum_max'], alpha=0.1, color='red')\n",
    "    ax.legend()\n",
    "    \n",
    "    ew = calc_equivalent_width(f_cont, f_line, line_data['index_band_max']-line_data['index_band_min'])\n",
    "    print('Equivalent width: %s' % (ew))"
   ]
  },
  {
   "cell_type": "code",
   "execution_count": 13,
   "metadata": {},
   "outputs": [
    {
     "name": "stdout",
     "output_type": "stream",
     "text": [
      "Equivalent width: 3.7400577708948592\n"
     ]
    },
    {
     "data": {
      "image/png": "[encoded data removed]",
      "text/plain": [
       "<Figure size 432x288 with 1 Axes>"
      ]
     },
     "metadata": {
      "needs_background": "light"
     },
     "output_type": "display_data"
    }
   ],
   "source": [
    "# Let's look at the hydrogen absorption line...\n",
    "plot_absorption_line( \\\n",
    "    pick_spectrum( \\\n",
    "        data_set='m33_0.01', \\\n",
    "        heavy_metal_c=790, \\\n",
    "        age_mil=11 \\\n",
    "    ), \\\n",
    "    'H_beta' \\\n",
    ")"
   ]
  },
  {
   "cell_type": "code",
   "execution_count": null,
   "metadata": {},
   "outputs": [],
   "source": []
  }
 ],
 "metadata": {
  "kernelspec": {
   "display_name": "Python 3",
   "language": "python",
   "name": "python3"
  },
  "language_info": {
   "codemirror_mode": {
    "name": "ipython",
    "version": 3
   },
   "file_extension": ".py",
   "mimetype": "text/x-python",
   "name": "python",
   "nbconvert_exporter": "python",
   "pygments_lexer": "ipython3",
   "version": "3.8.6"
  }
 },
 "nbformat": 4,
 "nbformat_minor": 4
}
