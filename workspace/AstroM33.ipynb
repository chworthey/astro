{
 "cells": [
  {
   "cell_type": "markdown",
   "metadata": {},
   "source": [
    "# Astro M33\n",
    "\n",
    "This notebook analyzes astronomy spectra data for age characteristics for chemically peculiar / non-chemically peculiar stars."
   ]
  },
  {
   "cell_type": "markdown",
   "metadata": {},
   "source": [
    "## Setup\n",
    "\n",
    "Do the imports and create the spark session instance."
   ]
  },
  {
   "cell_type": "code",
   "execution_count": 1,
   "metadata": {},
   "outputs": [],
   "source": [
    "from pyspark.sql import SparkSession\n",
    "from pyspark.sql.functions import *\n",
    "import pandas as pd\n",
    "\n",
    "spark = SparkSession.builder \\\n",
    "    .appName(\"Astro\") \\\n",
    "    .enableHiveSupport() \\\n",
    "    .getOrCreate()"
   ]
  },
  {
   "cell_type": "markdown",
   "metadata": {},
   "source": [
    "## Ingest\n",
    "\n",
    "This function copies the astronomy data to a managed table. This will take some time (and disk space), but it only needs to be done once ever for the entire dataset, and it will speed up any future analysis. Any future runs of ingest() will be ignored (silently fail) due to the table already existing.\n",
    "\n",
    "To re-ingest, one must first run this to delete the data:\n",
    "```python\n",
    "spark.sql('drop table astro')\n",
    "```"
   ]
  },
  {
   "cell_type": "code",
   "execution_count": 2,
   "metadata": {},
   "outputs": [],
   "source": [
    "# Uncomment to delete the table if necessary\n",
    "# spark.sql('drop table astro')"
   ]
  },
  {
   "cell_type": "code",
   "execution_count": 3,
   "metadata": {},
   "outputs": [],
   "source": [
    "def ingest():\n",
    "    if \"astro\" in [t.name for t in spark.catalog.listTables(\"default\")]:\n",
    "        print('Table \"astro\" already exists. Ignoring.')\n",
    "        return\n",
    "    raw = spark.read.text(\"../data/*/*/hmix.*\")\n",
    "    raw_filtered = raw.select( \\\n",
    "            input_file_name().alias('filename'), \\\n",
    "            col('value').alias('raw') \\\n",
    "        ) \\\n",
    "        .filter(~col('value').startswith('#'))\n",
    "    \n",
    "    cleaned = raw_filtered \\\n",
    "        .select( \\\n",
    "            split(col('filename'), '/').alias('fn_split'), \\\n",
    "            split(trim(col('raw')), '  ', 2).alias('raw_split') \\\n",
    "        ) \\\n",
    "        .select( \\\n",
    "            element_at(col('fn_split'), -3).alias('dataset'), \\\n",
    "            element_at(col('fn_split'), -2).alias('cp_str'), \\\n",
    "            element_at(col('fn_split'), -1).alias('fn'), \\\n",
    "            col('raw_split')[0].cast('float').alias('wavelength'), \\\n",
    "            col('raw_split')[1].cast('float').alias('flam') \\\n",
    "        ) \\\n",
    "        .select( \\\n",
    "            col('dataset'), \\\n",
    "            when(col('cp_str') == 'cp', 1).otherwise(0).alias('is_cp'), \\\n",
    "            substring(col('fn'), 7, 6).cast('bigint').alias('age_mil'), \\\n",
    "            substring(col('fn'), 14, 4).cast('int').alias('heavy_metal_c'), \\\n",
    "            col('wavelength'), \\\n",
    "            col('flam') \\\n",
    "        )\n",
    "    cleaned \\\n",
    "        .write \\\n",
    "        .mode('ignore') \\\n",
    "        .partitionBy( \\\n",
    "            'dataset', \\\n",
    "            'heavy_metal_c', \\\n",
    "            'is_cp', \\\n",
    "            'age_mil' \\\n",
    "        ) \\\n",
    "        .bucketBy(8, 'wavelength') \\\n",
    "        .format('orc') \\\n",
    "        .saveAsTable('astro')"
   ]
  },
  {
   "cell_type": "code",
   "execution_count": 4,
   "metadata": {},
   "outputs": [
    {
     "name": "stdout",
     "output_type": "stream",
     "text": [
      "Table \"astro\" already exists. Ignoring.\n"
     ]
    }
   ],
   "source": [
    "ingest()"
   ]
  },
  {
   "cell_type": "markdown",
   "metadata": {},
   "source": [
    "## Let's take a look at the data in the table..."
   ]
  },
  {
   "cell_type": "code",
   "execution_count": 5,
   "metadata": {},
   "outputs": [
    {
     "name": "stdout",
     "output_type": "stream",
     "text": [
      "+----------+--------+--------+-------------+-----+-------+\n",
      "|wavelength|    flam| dataset|heavy_metal_c|is_cp|age_mil|\n",
      "+----------+--------+--------+-------------+-----+-------+\n",
      "|   3000.38|25314.78|m33_0.01|          790|    0|    100|\n",
      "|   8859.64|2000.581|m33_0.01|          790|    0|    100|\n",
      "|    3000.5|25166.85|m33_0.01|          790|    0|    100|\n",
      "|   8859.85|1988.565|m33_0.01|          790|    0|    100|\n",
      "|   3000.52| 25134.6|m33_0.01|          790|    0|    100|\n",
      "|    8859.9|1988.374|m33_0.01|          790|    0|    100|\n",
      "|   3000.58|25026.55|m33_0.01|          790|    0|    100|\n",
      "|   8859.99|1989.904|m33_0.01|          790|    0|    100|\n",
      "|   3000.76|24667.97|m33_0.01|          790|    0|    100|\n",
      "|   8860.12|1994.742|m33_0.01|          790|    0|    100|\n",
      "|   3000.83|24560.54|m33_0.01|          790|    0|    100|\n",
      "|   8860.14|1995.604|m33_0.01|          790|    0|    100|\n",
      "|   3001.01|24524.21|m33_0.01|          790|    0|    100|\n",
      "|   8860.15|1996.036|m33_0.01|          790|    0|    100|\n",
      "|   3001.03| 24545.8|m33_0.01|          790|    0|    100|\n",
      "|   8860.21|1998.576|m33_0.01|          790|    0|    100|\n",
      "|   3001.13|24725.45|m33_0.01|          790|    0|    100|\n",
      "|   8860.26| 2000.49|m33_0.01|          790|    0|    100|\n",
      "|   3001.28|25145.16|m33_0.01|          790|    0|    100|\n",
      "|   8860.27|2000.839|m33_0.01|          790|    0|    100|\n",
      "+----------+--------+--------+-------------+-----+-------+\n",
      "only showing top 20 rows\n",
      "\n"
     ]
    }
   ],
   "source": [
    "spark.table('astro').show()"
   ]
  },
  {
   "cell_type": "markdown",
   "metadata": {},
   "source": [
    "## We can also execute SQL statements like so..."
   ]
  },
  {
   "cell_type": "code",
   "execution_count": 6,
   "metadata": {},
   "outputs": [
    {
     "name": "stdout",
     "output_type": "stream",
     "text": [
      "+----------+--------+--------+-------------+-----+-------+\n",
      "|wavelength|    flam| dataset|heavy_metal_c|is_cp|age_mil|\n",
      "+----------+--------+--------+-------------+-----+-------+\n",
      "|   3000.38|311351.3|m33_0.01|          790|    1|     14|\n",
      "|   6578.86|16179.39|m33_0.01|          790|    1|     14|\n",
      "|    3000.5|311013.9|m33_0.01|          790|    1|     14|\n",
      "|    6579.0|16262.56|m33_0.01|          790|    1|     14|\n",
      "|   3000.52|310993.6|m33_0.01|          790|    1|     14|\n",
      "|   6579.04|16280.62|m33_0.01|          790|    1|     14|\n",
      "|   3000.58|310997.0|m33_0.01|          790|    1|     14|\n",
      "|    6579.1|16305.47|m33_0.01|          790|    1|     14|\n",
      "|   3000.76|311354.0|m33_0.01|          790|    1|     14|\n",
      "|   6579.11|16309.48|m33_0.01|          790|    1|     14|\n",
      "+----------+--------+--------+-------------+-----+-------+\n",
      "\n"
     ]
    }
   ],
   "source": [
    "spark.sql('SELECT * FROM astro WHERE is_cp=1 AND age_mil=14 LIMIT 10').show()"
   ]
  },
  {
   "cell_type": "markdown",
   "metadata": {},
   "source": [
    "## We can also sample from the data, and plot it..."
   ]
  },
  {
   "cell_type": "code",
   "execution_count": 7,
   "metadata": {},
   "outputs": [],
   "source": [
    "def sample_and_plot_age( \\\n",
    "    age_mil=11, \\\n",
    "    min_wavelength=3000.0, \\\n",
    "    max_wavelength=10000.0, \\\n",
    "    num_samples=2000):\n",
    "    wavelength_increment = (max_wavelength - min_wavelength)/num_samples\n",
    "    \n",
    "    table = spark.table('astro')\n",
    "\n",
    "    bins = table.select( \\\n",
    "            ( \\\n",
    "                floor( \\\n",
    "                    col('wavelength')/wavelength_increment \\\n",
    "                )*wavelength_increment \\\n",
    "            ).alias('wavelength'), \\\n",
    "            col('is_cp'), \\\n",
    "            col('flam'), \\\n",
    "        ) \\\n",
    "        .filter( \\\n",
    "            (col('age_mil') == age_mil) & \\\n",
    "            (col('wavelength') >= min_wavelength) & \\\n",
    "            (col('wavelength') <= max_wavelength) \\\n",
    "        ) \\\n",
    "        .groupBy( \\\n",
    "            col('wavelength'), \\\n",
    "            col('is_cp') \\\n",
    "        ) \\\n",
    "        .agg(avg(col('flam')).alias('avg_flam'))\n",
    "    \n",
    "    transf = bins.alias('b1') \\\n",
    "    .join( \\\n",
    "        bins.alias('b2'), \\\n",
    "        (col('b1.wavelength') == col('b2.wavelength')) & \\\n",
    "            (col('b1.is_cp') == 0) & \\\n",
    "            (col('b2.is_cp') == 1) \\\n",
    "    ) \\\n",
    "    .select( \\\n",
    "        col('b1.wavelength').alias('wavelength'), \\\n",
    "        col('b1.avg_flam').alias('flam_no_cp'), \\\n",
    "        col('b2.avg_flam').alias('flam_cp') \\\n",
    "    ) \\\n",
    "    .orderBy(col('wavelength'))\n",
    "    \n",
    "    sampled_pdf = transf.toPandas().set_index('wavelength')\n",
    "    sampled_pdf.plot.line()\n",
    "    "
   ]
  },
  {
   "cell_type": "code",
   "execution_count": 8,
   "metadata": {},
   "outputs": [
    {
     "data": {
      "image/png": "[encoded data removed]",
      "text/plain": [
       "<Figure size 432x288 with 1 Axes>"
      ]
     },
     "metadata": {
      "needs_background": "light"
     },
     "output_type": "display_data"
    }
   ],
   "source": [
    "sample_and_plot_age( \\\n",
    "    age_mil=11, \\\n",
    "    min_wavelength=4800.0, \\\n",
    "    max_wavelength=4900.0 \\\n",
    ")"
   ]
  },
  {
   "cell_type": "code",
   "execution_count": null,
   "metadata": {},
   "outputs": [],
   "source": []
  }
 ],
 "metadata": {
  "kernelspec": {
   "display_name": "Python 3",
   "language": "python",
   "name": "python3"
  },
  "language_info": {
   "codemirror_mode": {
    "name": "ipython",
    "version": 3
   },
   "file_extension": ".py",
   "mimetype": "text/x-python",
   "name": "python",
   "nbconvert_exporter": "python",
   "pygments_lexer": "ipython3",
   "version": "3.8.6"
  }
 },
 "nbformat": 4,
 "nbformat_minor": 4
}
